{
 "cells": [
  {
   "cell_type": "code",
   "execution_count": 32,
   "id": "e63094f4",
   "metadata": {},
   "outputs": [],
   "source": [
    "import re\n",
    "\n",
    "from pyspark.sql import SparkSession\n",
    "from pyspark.sql import functions as F\n",
    "from pyspark.sql.functions import *"
   ]
  },
  {
   "cell_type": "code",
   "execution_count": 33,
   "id": "8ddb76b9",
   "metadata": {},
   "outputs": [],
   "source": [
    "import os\n",
    "import sys\n",
    "\n",
    "os.environ['PYSPARK_PYTHON'] = sys.executable\n",
    "os.environ['PYSPARK_DRIVER_PYTHON'] = sys.executable"
   ]
  },
  {
   "cell_type": "code",
   "execution_count": 2,
   "id": "01d61126",
   "metadata": {},
   "outputs": [],
   "source": [
    "def cleanTweet(tweet: str) -> str:\n",
    "    tweet = tweet.lower()\n",
    "    tweet = re.sub(r'http\\S+', '', str(tweet))\n",
    "    tweet = re.sub(r'bit.ly/\\S+', '', str(tweet))\n",
    "    tweet = tweet.strip('[link]')\n",
    "\n",
    "    # remove users\n",
    "    tweet = re.sub('(RT\\s@[A-Za-z]+[A-Za-z0-9-_]+)', '', str(tweet))\n",
    "    tweet = re.sub('(@[A-Za-z]+[A-Za-z0-9-_]+)', '', str(tweet))\n",
    "\n",
    "    # remove puntuation\n",
    "    my_punctuation = '!\"$%&\\'()*+,-./:;<=>?[\\\\]^_`{|}~•@â'\n",
    "    tweet = re.sub('[' + my_punctuation + ']+', ' ', str(tweet))\n",
    "\n",
    "    # remove number\n",
    "    tweet = re.sub('([0-9]+)', '', str(tweet))\n",
    "\n",
    "    # remove hashtag\n",
    "    tweet = re.sub('(#[A-Za-z]+[A-Za-z0-9-_]+)', '', str(tweet))\n",
    "\n",
    "    return tweet\n"
   ]
  },
  {
   "cell_type": "code",
   "execution_count": 35,
   "id": "135c2aa4",
   "metadata": {},
   "outputs": [],
   "source": [
    " spark = SparkSession\\\n",
    "        .builder\\\n",
    "        .appName(\"TwitterSentimentAnalysis\")\\\n",
    "        .master(\"local[*]\")\\\n",
    "        .getOrCreate()"
   ]
  },
  {
   "cell_type": "code",
   "execution_count": 36,
   "id": "ea05b335",
   "metadata": {},
   "outputs": [],
   "source": [
    "spark.sparkContext.setLogLevel('ERROR')"
   ]
  },
  {
   "cell_type": "code",
   "execution_count": 37,
   "id": "5cfe07ff",
   "metadata": {},
   "outputs": [],
   "source": [
    "df = spark.readStream\\\n",
    "        .format(\"socket\")\\\n",
    "        .option(\"host\", \"127.0.0.1\")\\\n",
    "        .option(\"port\", 3333)\\\n",
    "        .load()"
   ]
  },
  {
   "cell_type": "code",
   "execution_count": 38,
   "id": "69945d24",
   "metadata": {},
   "outputs": [],
   "source": [
    "tweet_schema = StructType().add(\"ID\", \"string\").add(\"text\", \"string\").add(\"created_at\", \"string\")"
   ]
  },
  {
   "cell_type": "code",
   "execution_count": 39,
   "id": "48acd27c",
   "metadata": {},
   "outputs": [],
   "source": [
    "values = df.select(from_json(df.value.cast(\"string\"), tweet_schema).alias(\"tweet\"))"
   ]
  },
  {
   "cell_type": "code",
   "execution_count": 40,
   "id": "278b3c4a",
   "metadata": {},
   "outputs": [],
   "source": [
    "df1 = values.select(\"tweet.*\")\n",
    "clean_tweets = F.udf(cleanTweet, StringType())\n",
    "raw_tweets = df1.withColumn('processed_text', clean_tweets(col(\"text\")))"
   ]
  },
  {
   "cell_type": "code",
   "execution_count": 41,
   "id": "eb682edd",
   "metadata": {},
   "outputs": [
    {
     "name": "stderr",
     "output_type": "stream",
     "text": [
      "                                                                                \r"
     ]
    }
   ],
   "source": [
    "writeTweet = raw_tweets.writeStream. \\\n",
    "    outputMode(\"append\"). \\\n",
    "    format(\"console\"). \\\n",
    "    queryName(\"tweetquery\"). \\\n",
    "    trigger(processingTime='2 seconds'). \\\n",
    "    start()"
   ]
  },
  {
   "cell_type": "code",
   "execution_count": 34,
   "id": "a32e5230",
   "metadata": {},
   "outputs": [],
   "source": [
    "spark.stop()\n"
   ]
  }
 ],
 "metadata": {
  "kernelspec": {
   "display_name": "Python 3 (ipykernel)",
   "language": "python",
   "name": "python3"
  },
  "language_info": {
   "codemirror_mode": {
    "name": "ipython",
    "version": 3
   },
   "file_extension": ".py",
   "mimetype": "text/x-python",
   "name": "python",
   "nbconvert_exporter": "python",
   "pygments_lexer": "ipython3",
   "version": "3.9.15"
  }
 },
 "nbformat": 4,
 "nbformat_minor": 5
}
